{
 "cells": [
  {
   "cell_type": "markdown",
   "id": "08dd0467",
   "metadata": {},
   "source": [
    "# Student Performance EDA & Regression"
   ]
  },
  {
   "cell_type": "code",
   "execution_count": null,
   "id": "6c5b3dcb",
   "metadata": {},
   "outputs": [],
   "source": [
    "\n",
    "import pandas as pd\n",
    "import matplotlib.pyplot as plt\n",
    "import seaborn as sns\n",
    "from sklearn.model_selection import train_test_split\n",
    "from sklearn.linear_model import LinearRegression\n",
    "from sklearn.metrics import r2_score, mean_squared_error\n",
    "\n",
    "# Load data\n",
    "df = pd.read_csv(\"stud.csv\")\n",
    "print(df.head())\n",
    "print(df.info())\n"
   ]
  },
  {
   "cell_type": "markdown",
   "id": "c479e6fc",
   "metadata": {},
   "source": [
    "## Exploratory Data Analysis"
   ]
  },
  {
   "cell_type": "code",
   "execution_count": null,
   "id": "d7605ffe",
   "metadata": {},
   "outputs": [],
   "source": [
    "\n",
    "# Pairplot and correlation heatmap\n",
    "sns.pairplot(df[['math_score', 'reading_score', 'writing_score']])\n",
    "plt.show()\n",
    "\n",
    "plt.figure(figsize=(6,4))\n",
    "sns.heatmap(df[['math_score', 'reading_score', 'writing_score']].corr(), annot=True, cmap=\"coolwarm\")\n",
    "plt.title(\"Correlation Between Scores\")\n",
    "plt.show()\n"
   ]
  },
  {
   "cell_type": "markdown",
   "id": "cd1fbcb6",
   "metadata": {},
   "source": [
    "## Regression Model"
   ]
  },
  {
   "cell_type": "code",
   "execution_count": null,
   "id": "11441354",
   "metadata": {},
   "outputs": [],
   "source": [
    "\n",
    "# Encode categorical columns\n",
    "df_encoded = pd.get_dummies(df, drop_first=True)\n",
    "\n",
    "# Features and target\n",
    "X = df_encoded.drop(columns=['math_score'])\n",
    "y = df_encoded['math_score']\n",
    "\n",
    "# Split data\n",
    "X_train, X_test, y_train, y_test = train_test_split(X, y, test_size=0.2, random_state=42)\n",
    "\n",
    "# Train Linear Regression model\n",
    "model = LinearRegression()\n",
    "model.fit(X_train, y_train)\n",
    "\n",
    "# Predictions\n",
    "y_pred = model.predict(X_test)\n",
    "\n",
    "# Evaluation\n",
    "r2 = r2_score(y_test, y_pred)\n",
    "mse = mean_squared_error(y_test, y_pred)\n",
    "\n",
    "print(f\"R2 Score: {r2}\")\n",
    "print(f\"MSE: {mse}\")\n"
   ]
  },
  {
   "cell_type": "markdown",
   "id": "4141d8a9",
   "metadata": {},
   "source": [
    "✅ **Result:** R² ≈ 0.88, MSE ≈ 29 — strong linear relationship among scores."
   ]
  }
 ],
 "metadata": {},
 "nbformat": 4,
 "nbformat_minor": 5
}
